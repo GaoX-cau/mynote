{
 "cells": [
  {
   "cell_type": "markdown",
   "metadata": {},
   "source": [
    "# Estimating CrY2H-seq screen saturation\n",
    "\n",
    "we simulated results for all possible orderings (C10 i) for the ten replicate screens. We calculated the average number and s.d. of interactions detected at each step, considering all possible orderings\n",
    "\n",
    "```bash\n",
    "# /public1/home/pg3152/moweipeng/lp-data/2nd-seq/sum\n",
    "./check_saturation.py $(ls LP*)\n",
    "```"
   ]
  },
  {
   "cell_type": "code",
   "execution_count": null,
   "metadata": {
    "colab": {},
    "colab_type": "code",
    "id": "6h3Z_bmEgNYu"
   },
   "outputs": [],
   "source": [
    "pip install lmfit"
   ]
  },
  {
   "cell_type": "code",
   "execution_count": 2,
   "metadata": {
    "colab": {},
    "colab_type": "code",
    "id": "OyAT6JzFgbPJ"
   },
   "outputs": [],
   "source": [
    "import numpy as np\n",
    "from lmfit import minimize, Parameters\n",
    "import matplotlib.pyplot as plt"
   ]
  },
  {
   "cell_type": "markdown",
   "metadata": {
    "colab_type": "text",
    "id": "S46ig4j0ZhB3"
   },
   "source": [
    "**For PacBio data**"
   ]
  },
  {
   "cell_type": "code",
   "execution_count": 3,
   "metadata": {
    "colab": {},
    "colab_type": "code",
    "id": "XA-Ezqz4g2Bn"
   },
   "outputs": [],
   "source": [
    "s = [i for i in range(1,13)]\n",
    "s = np.array(s)\n",
    "v = [1357.6666666666667, 2577.8333333333335, 3682.090909090909, 4687.131313131313,\n",
    "     5606.299242424242, 6450.440476190476, 7228.400252525253, 7947.359595959596,\n",
    "     8613.095454545455, 9230.19696969697, 9802.25, 10332.0] \n",
    "v = np.array(v)\n",
    "y_err = [1137.5618908681652, 1452.7324680536926, 1594.799223872024, 1635.0578060794999,\n",
    "         1603.2901241892118, 1515.5492945482947, 1381.6699026353656, 1208.1744238178167,\n",
    "         999.4299306819739, 757.4059241451779, 477.19809391209157, 0]\n",
    "y_err = np.array(y_err)"
   ]
  },
  {
   "cell_type": "code",
   "execution_count": 4,
   "metadata": {
    "colab": {
     "base_uri": "https://localhost:8080/",
     "height": 300
    },
    "colab_type": "code",
    "executionInfo": {
     "elapsed": 903,
     "status": "ok",
     "timestamp": 1559216527113,
     "user": {
      "displayName": "Windz Mok",
      "photoUrl": "https://lh5.googleusercontent.com/-EZAN9DxLWgo/AAAAAAAAAAI/AAAAAAAAixU/LTltGqLAcKE/s64/photo.jpg",
      "userId": "15501302555395365261"
     },
     "user_tz": -480
    },
    "id": "45NRRc_ShV3s",
    "outputId": "e966566b-e265-4b86-c5d4-0042a54982c0"
   },
   "outputs": [
    {
     "data": {
      "text/plain": [
       "Text(0,0.5,'No. of protein interactions')"
      ]
     },
     "execution_count": 4,
     "metadata": {},
     "output_type": "execute_result"
    },
    {
     "data": {
      "image/png": "[encoded data removed]",
      "text/plain": [
       "<Figure size 432x288 with 1 Axes>"
      ]
     },
     "metadata": {
      "needs_background": "light"
     },
     "output_type": "display_data"
    }
   ],
   "source": [
    "plt.errorbar(s, v, yerr=y_err, fmt='o-')\n",
    "plt.xlabel('No. of screens')\n",
    "plt.ylabel('No. of protein interactions')"
   ]
  },
  {
   "cell_type": "code",
   "execution_count": 5,
   "metadata": {
    "colab": {},
    "colab_type": "code",
    "id": "dZaECmEwh8Ui"
   },
   "outputs": [],
   "source": [
    "def residual(p, x, data):\n",
    "    vmax = p['vmax'].value\n",
    "    km = p['km'].value\n",
    "    model = vmax * x / (km + x)\n",
    "    return (data - model)\n",
    "\n",
    "p = Parameters()\n",
    "p.add('vmax', value=1., min=0.)\n",
    "p.add('km', value=1., min=0.)\n",
    "\n",
    "out = minimize(residual, p, args=(s, v))"
   ]
  },
  {
   "cell_type": "code",
   "execution_count": 6,
   "metadata": {
    "colab": {
     "base_uri": "https://localhost:8080/",
     "height": 417
    },
    "colab_type": "code",
    "executionInfo": {
     "elapsed": 713,
     "status": "ok",
     "timestamp": 1559216281076,
     "user": {
      "displayName": "Windz Mok",
      "photoUrl": "https://lh5.googleusercontent.com/-EZAN9DxLWgo/AAAAAAAAAAI/AAAAAAAAixU/LTltGqLAcKE/s64/photo.jpg",
      "userId": "15501302555395365261"
     },
     "user_tz": -480
    },
    "id": "aejJJpSkiEhq",
    "outputId": "75601922-9d6a-4685-a507-a7debdaff6c4"
   },
   "outputs": [
    {
     "data": {
      "text/html": [
       "<h2>Fit Statistics</h2><table><tr><td>fitting method</td><td>leastsq</td><td></td></tr><tr><td># function evals</td><td>60</td><td></td></tr><tr><td># data points</td><td>12</td><td></td></tr><tr><td># variables</td><td>2</td><td></td></tr><tr><td>chi-square</td><td> 85.0272054</td><td></td></tr><tr><td>reduced chi-square</td><td> 8.50272054</td><td></td></tr><tr><td>Akaike info crit.</td><td> 27.4967754</td><td></td></tr><tr><td>Bayesian info crit.</td><td> 28.4665887</td><td></td></tr></table><h2>Variables</h2><table><tr><th> name </th><th> value </th><th> standard error </th><th> relative error </th><th> initial value </th><th> min </th><th> max </th><th> vary </th></tr><tr><td> vmax </td><td>  25994.1354 </td><td>  29.6336670 </td><td> 0.11% </td><td> 1.0 </td><td>  0.00000000 </td><td>         inf </td><td> True </td></tr><tr><td> km </td><td>  18.1733166 </td><td>  0.03035787 </td><td> 0.17% </td><td> 1.0 </td><td>  0.00000000 </td><td>         inf </td><td> True </td></tr></table><h2>Correlations (unreported correlations are < 0.100)</h2><table><tr><td>vmax</td><td>km</td><td>0.9945</td></tr></table>"
      ],
      "text/plain": [
       "<lmfit.minimizer.MinimizerResult at 0x1cff10adcc0>"
      ]
     },
     "execution_count": 6,
     "metadata": {},
     "output_type": "execute_result"
    }
   ],
   "source": [
    "out"
   ]
  },
  {
   "cell_type": "code",
   "execution_count": 7,
   "metadata": {
    "colab": {
     "base_uri": "https://localhost:8080/",
     "height": 300
    },
    "colab_type": "code",
    "executionInfo": {
     "elapsed": 672,
     "status": "ok",
     "timestamp": 1559266255844,
     "user": {
      "displayName": "Windz Mok",
      "photoUrl": "https://lh5.googleusercontent.com/-EZAN9DxLWgo/AAAAAAAAAAI/AAAAAAAAixU/LTltGqLAcKE/s64/photo.jpg",
      "userId": "15501302555395365261"
     },
     "user_tz": -480
    },
    "id": "EeIGLcvUk318",
    "outputId": "8f31c16c-9c77-4e5e-eb23-94729c817f26"
   },
   "outputs": [
    {
     "data": {
      "text/plain": [
       "Text(0,0.5,'No. of protein interactions')"
      ]
     },
     "execution_count": 7,
     "metadata": {},
     "output_type": "execute_result"
    },
    {
     "data": {
      "image/png": "[encoded data removed]",
      "text/plain": [
       "<Figure size 432x288 with 1 Axes>"
      ]
     },
     "metadata": {
      "needs_background": "light"
     },
     "output_type": "display_data"
    }
   ],
   "source": [
    "vmax = 25994.1354\n",
    "km = 18.1733166\n",
    "x, y = [], []\n",
    "for i in range(1, 151):\n",
    "  x.append(i)\n",
    "  y.append(vmax * i / (km + i))\n",
    "\n",
    "plt.errorbar(s, v, yerr=y_err, fmt='o-', alpha=.5, label='PacBio data')\n",
    "plt.plot(x, y, color='r',alpha=.5, label='MM fit')\n",
    "plt.legend()\n",
    "plt.xlabel('No. of screens')\n",
    "plt.ylabel('No. of protein interactions')"
   ]
  },
  {
   "cell_type": "markdown",
   "metadata": {
    "colab_type": "text",
    "id": "6qWfQgjjZY1_"
   },
   "source": [
    "**For Illumina data**"
   ]
  },
  {
   "cell_type": "code",
   "execution_count": null,
   "metadata": {
    "colab": {},
    "colab_type": "code",
    "id": "PgiQDwH1ZMTG"
   },
   "outputs": [],
   "source": [
    "s = [i for i in range(1,6)]\n",
    "s = np.array(s)\n",
    "v = [1318.0, 2530.8, 3683.8, 4794.2, 5871.0]\n",
    "v = np.array(v)\n",
    "y_err = [1015.517995901599, 1244.5561297105085, 1249.4376975263713, 1024.4003904723972, 0]\n",
    "y_err = np.array(y_err)"
   ]
  },
  {
   "cell_type": "code",
   "execution_count": null,
   "metadata": {
    "colab": {},
    "colab_type": "code",
    "id": "LLeqR4YuZmJn"
   },
   "outputs": [],
   "source": [
    "def residual(p, x, data):\n",
    "    vmax = p['vmax'].value\n",
    "    km = p['km'].value\n",
    "    model = vmax * x / (km + x)\n",
    "    return (data - model)\n",
    "\n",
    "p = Parameters()\n",
    "p.add('vmax', value=1., min=0.)\n",
    "p.add('km', value=1., min=0.)\n",
    "\n",
    "out = minimize(residual, p, args=(s, v))"
   ]
  },
  {
   "cell_type": "code",
   "execution_count": 20,
   "metadata": {
    "colab": {
     "base_uri": "https://localhost:8080/",
     "height": 417
    },
    "colab_type": "code",
    "executionInfo": {
     "elapsed": 886,
     "status": "ok",
     "timestamp": 1559265501041,
     "user": {
      "displayName": "Windz Mok",
      "photoUrl": "https://lh5.googleusercontent.com/-EZAN9DxLWgo/AAAAAAAAAAI/AAAAAAAAixU/LTltGqLAcKE/s64/photo.jpg",
      "userId": "15501302555395365261"
     },
     "user_tz": -480
    },
    "id": "qGlkjdo9Z2aQ",
    "outputId": "2fcc7030-ea38-4a17-bbe2-92a91f9e5726"
   },
   "outputs": [
    {
     "data": {
      "text/html": [
       "<h2>Fit Statistics</h2><table><tr><td>fitting method</td><td>leastsq</td><td></td></tr><tr><td># function evals</td><td>70</td><td></td></tr><tr><td># data points</td><td>5</td><td></td></tr><tr><td># variables</td><td>2</td><td></td></tr><tr><td>chi-square</td><td> 769.326207</td><td></td></tr><tr><td>reduced chi-square</td><td> 256.442069</td><td></td></tr><tr><td>Akaike info crit.</td><td> 29.1803858</td><td></td></tr><tr><td>Bayesian info crit.</td><td> 28.3992616</td><td></td></tr></table><h2>Variables</h2><table><tr><th> name </th><th> value </th><th> standard error </th><th> relative error </th><th> initial value </th><th> min </th><th> max </th><th> vary </th></tr><tr><td> vmax </td><td>  48462.9986 </td><td>  3246.53504 </td><td> 6.70% </td><td> 1.0 </td><td>  0.00000000 </td><td>         inf </td><td> True </td></tr><tr><td> km </td><td>  36.3448143 </td><td>  2.70224108 </td><td> 7.44% </td><td> 1.0 </td><td>  0.00000000 </td><td>         inf </td><td> True </td></tr></table><h2>Correlations (unreported correlations are < 0.100)</h2><table><tr><td>vmax</td><td>km</td><td>0.9996</td></tr></table>"
      ],
      "text/plain": [
       "<lmfit.minimizer.MinimizerResult at 0x7fb07b66b710>"
      ]
     },
     "execution_count": 20,
     "metadata": {
      "tags": []
     },
     "output_type": "execute_result"
    }
   ],
   "source": [
    "out"
   ]
  },
  {
   "cell_type": "code",
   "execution_count": 26,
   "metadata": {
    "colab": {
     "base_uri": "https://localhost:8080/",
     "height": 300
    },
    "colab_type": "code",
    "executionInfo": {
     "elapsed": 951,
     "status": "ok",
     "timestamp": 1559266117964,
     "user": {
      "displayName": "Windz Mok",
      "photoUrl": "https://lh5.googleusercontent.com/-EZAN9DxLWgo/AAAAAAAAAAI/AAAAAAAAixU/LTltGqLAcKE/s64/photo.jpg",
      "userId": "15501302555395365261"
     },
     "user_tz": -480
    },
    "id": "-4zdC_VdZ63g",
    "outputId": "6066482e-b1d9-47f5-b102-025147122c0c"
   },
   "outputs": [
    {
     "data": {
      "text/plain": [
       "Text(0, 0.5, 'No. of protein interactions')"
      ]
     },
     "execution_count": 26,
     "metadata": {
      "tags": []
     },
     "output_type": "execute_result"
    },
    {
     "data": {
      "image/png": "[encoded data removed]",
      "text/plain": [
       "<Figure size 432x288 with 1 Axes>"
      ]
     },
     "metadata": {
      "tags": []
     },
     "output_type": "display_data"
    }
   ],
   "source": [
    "vmax = 48462.9986\n",
    "km = 36.3448143\n",
    "x, y = [], []\n",
    "for i in range(1, 201):\n",
    "  x.append(i)\n",
    "  y.append(vmax * i / (km + i))\n",
    "\n",
    "plt.plot(x, y, color='r',alpha=.5,label='MM fit')\n",
    "plt.errorbar(s, v, yerr=y_err, fmt='o-', alpha=.5, label='Illumina data')\n",
    "plt.legend()\n",
    "plt.xlabel('No. of screens')\n",
    "plt.ylabel('No. of protein interactions')"
   ]
  }
 ],
 "metadata": {
  "colab": {
   "name": "Michaelis–Menten fit.ipynb",
   "provenance": [],
   "version": "0.3.2"
  },
  "kernelspec": {
   "display_name": "Python 3",
   "language": "python",
   "name": "python3"
  },
  "language_info": {
   "codemirror_mode": {
    "name": "ipython",
    "version": 3
   },
   "file_extension": ".py",
   "mimetype": "text/x-python",
   "name": "python",
   "nbconvert_exporter": "python",
   "pygments_lexer": "ipython3",
   "version": "3.7.0"
  }
 },
 "nbformat": 4,
 "nbformat_minor": 2
}
