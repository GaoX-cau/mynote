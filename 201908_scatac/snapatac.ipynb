{
 "cells": [
  {
   "cell_type": "code",
   "execution_count": 1,
   "metadata": {},
   "outputs": [
    {
     "name": "stderr",
     "output_type": "stream",
     "text": [
      "Loading required package: Matrix\n",
      "Loading required package: rhdf5\n"
     ]
    }
   ],
   "source": [
    "library(SnapATAC)"
   ]
  },
  {
   "cell_type": "markdown",
   "metadata": {},
   "source": [
    "### Step 3. Barcode selection"
   ]
  },
  {
   "cell_type": "code",
   "execution_count": 2,
   "metadata": {},
   "outputs": [
    {
     "name": "stderr",
     "output_type": "stream",
     "text": [
      "Epoch: reading the barcode session ...\n"
     ]
    }
   ],
   "source": [
    "x.sp = createSnap(\n",
    "\tfile=\"all_merge.snap\",\n",
    "\tsample=\"scatac\",\n",
    "\tnum.cores=15\n",
    "\t);"
   ]
  },
  {
   "cell_type": "code",
   "execution_count": 3,
   "metadata": {},
   "outputs": [
    {
     "data": {
      "text/plain": [
       "number of barcodes: 1345\n",
       "number of bins: 0\n",
       "number of genes: 0\n",
       "number of peaks: 0"
      ]
     },
     "metadata": {},
     "output_type": "display_data"
    }
   ],
   "source": [
    "x.sp"
   ]
  },
  {
   "cell_type": "markdown",
   "metadata": {},
   "source": [
    "### Step 4. Add cell-by-bin matrix to existing snap object\n",
    "\n",
    "Here we use cell-by-bin matrix of 5kb resolution as input for clustering"
   ]
  },
  {
   "cell_type": "code",
   "execution_count": 4,
   "metadata": {},
   "outputs": [
    {
     "data": {
      "text/html": [
       "<ol class=list-inline>\n",
       "\t<li>5000</li>\n",
       "\t<li>10000</li>\n",
       "</ol>\n"
      ],
      "text/latex": [
       "\\begin{enumerate*}\n",
       "\\item 5000\n",
       "\\item 10000\n",
       "\\end{enumerate*}\n"
      ],
      "text/markdown": [
       "1. 5000\n",
       "2. 10000\n",
       "\n",
       "\n"
      ],
      "text/plain": [
       "[1]  5000 10000"
      ]
     },
     "metadata": {},
     "output_type": "display_data"
    },
    {
     "name": "stderr",
     "output_type": "stream",
     "text": [
      "Epoch: reading cell-bin count matrix session ...\n"
     ]
    }
   ],
   "source": [
    "# show what bin sizes exist in snap file\n",
    "showBinSizes(\"all_merge.snap\");\n",
    "x.sp = addBmatToSnap(x.sp, bin.size=5000, num.cores=15)"
   ]
  },
  {
   "cell_type": "code",
   "execution_count": 5,
   "metadata": {},
   "outputs": [
    {
     "data": {
      "text/plain": [
       "number of barcodes: 1345\n",
       "number of bins: 11383842\n",
       "number of genes: 0\n",
       "number of peaks: 0"
      ]
     },
     "metadata": {},
     "output_type": "display_data"
    }
   ],
   "source": [
    "x.sp"
   ]
  },
  {
   "cell_type": "markdown",
   "metadata": {},
   "source": [
    "### Step 5. Matrix binarization\n",
    "\n",
    "We next convert the cell-by-bin count matrix to a binary matrix. We found some items in the matrix have abnormally high coverage perhaps due to the alignment error. Therefore, we first remove top 0.1% items in the count matrix followed by converting the rest of the values into binary."
   ]
  },
  {
   "cell_type": "code",
   "execution_count": 6,
   "metadata": {},
   "outputs": [],
   "source": [
    "x.sp = makeBinary(x.sp, mat=\"bmat\")"
   ]
  },
  {
   "cell_type": "markdown",
   "metadata": {},
   "source": [
    "### Step 7. Dimensionality Reduction (SnapATAC)\n",
    "We next run directionality reduction using `runJDA` function which contains the following steps: 1) we convert the filtered genome-wide cell-by-bin matrix into a cell-by-cell similarity matrix by estimating the jaccard index between two cells in the basis of profile overlaps; 2) due to the high dropout rate, we found that the jaccard index is highly affected by the read depth differing between cells. To eliminate such confounding factor, we developed a regression-based method `normOVE` to eliminate such confounding factor; 3) Like other single-cell analysis, snATAC-seq contains extensive technical noise due to the high drop-out rate. To overcome this challenge, we applied PCA or SVD to combine information across a correlated feature set hereby creating a mega-feature and exclude the variance potential resulting from technical noise."
   ]
  },
  {
   "cell_type": "code",
   "execution_count": 7,
   "metadata": {},
   "outputs": [
    {
     "name": "stderr",
     "output_type": "stream",
     "text": [
      "Epoch: checking the inputs ...\n",
      "Epoch: filtering bins ..\n",
      "Epoch: running jaccard index matrix ...\n",
      "Epoch: normalizing jaccard index matrix ...\n"
     ]
    },
    {
     "ename": "ERROR",
     "evalue": "Error in isOpen(con): 链结不对\n",
     "output_type": "error",
     "traceback": [
      "Error in isOpen(con): 链结不对\nTraceback:\n"
     ]
    }
   ],
   "source": [
    "x.sp = runJDA(\n",
    "\tobj=x.sp,\n",
    "\tinput.mat=\"bmat\",\n",
    "\tbin.cov.zscore.lower=-2,\n",
    "\tbin.cov.zscore.upper=2,\n",
    "\tpc.num=50,\n",
    "\tnorm.method=\"normOVE\",\n",
    "\tmax.var=5000,\n",
    "\tdo.par=TRUE,\n",
    "\tncell.chunk=1000,\n",
    "\tnum.cores=15,\n",
    "\tseed.use=42,\n",
    "\ttmp.folder=tempdir()\n",
    "\t);"
   ]
  },
  {
   "cell_type": "code",
   "execution_count": 15,
   "metadata": {},
   "outputs": [
    {
     "data": {
      "text/html": [
       "64"
      ],
      "text/latex": [
       "64"
      ],
      "text/markdown": [
       "64"
      ],
      "text/plain": [
       "[1] 64"
      ]
     },
     "metadata": {},
     "output_type": "display_data"
    }
   ],
   "source": [
    "parallel::detectCores()"
   ]
  },
  {
   "cell_type": "markdown",
   "metadata": {},
   "source": [
    "### Step 8. Determine statistically significant principal components (SnapATAC)\n",
    "\n",
    "We next Determine how many PCs to include for downstream analysis. We use an ad hoc method for determining which PCs to use by looking at a plot of the standard deviations of the principle components and draw your cutoff where there is a clear elbow in the graph. The other ad hoc way to determine PCs is to plot out every two PCs and select the number of PCs until there is no obvious structure."
   ]
  },
  {
   "cell_type": "code",
   "execution_count": null,
   "metadata": {},
   "outputs": [],
   "source": [
    "plotDimReductElbow(\n",
    "    obj=x.sp, \n",
    "    point.size=1.5,\n",
    "    point.shape=19,\n",
    "    point.color=\"red\",\n",
    "    point.alpha=1,\n",
    "    pdf.file.name=NULL,\n",
    "    pdf.height=7,\n",
    "    pdf.width=7,\n",
    "    labs.title=\"PCA Elbow plot\",\n",
    "    labs.subtitle=NULL\n",
    "    );"
   ]
  },
  {
   "cell_type": "code",
   "execution_count": 13,
   "metadata": {},
   "outputs": [
    {
     "ename": "ERROR",
     "evalue": "Error in plotDimReductPW.default(obj = x.sp, pca.dims = 1:50, point.size = 0.3, : dim.reduct is not complete, run 'runDimReduct' first\n",
     "output_type": "error",
     "traceback": [
      "Error in plotDimReductPW.default(obj = x.sp, pca.dims = 1:50, point.size = 0.3, : dim.reduct is not complete, run 'runDimReduct' first\nTraceback:\n",
      "1. plotDimReductPW(obj = x.sp, pca.dims = 1:50, point.size = 0.3, \n .     point.color = \"grey\", point.shape = 19, point.alpha = 0.6, \n .     down.sample = 5000, pdf.file.name = NULL, pdf.height = 7, \n .     pdf.width = 7)",
      "2. plotDimReductPW.default(obj = x.sp, pca.dims = 1:50, point.size = 0.3, \n .     point.color = \"grey\", point.shape = 19, point.alpha = 0.6, \n .     down.sample = 5000, pdf.file.name = NULL, pdf.height = 7, \n .     pdf.width = 7)",
      "3. stop(\"dim.reduct is not complete, run 'runDimReduct' first\")"
     ]
    }
   ],
   "source": [
    "plotDimReductPW(\n",
    "    obj=x.sp, \n",
    "    pca.dims=1:50,\n",
    "    point.size=0.3,\n",
    "    point.color=\"grey\",\n",
    "    point.shape=19,\n",
    "    point.alpha=0.6,\n",
    "    down.sample=5000,\n",
    "    pdf.file.name=NULL, \n",
    "    pdf.height=7, \n",
    "    pdf.width=7\n",
    "    );"
   ]
  },
  {
   "cell_type": "code",
   "execution_count": 14,
   "metadata": {},
   "outputs": [
    {
     "ename": "ERROR",
     "evalue": "Error in runKNN.default(obj = x.sp, pca.dims = 2:30, weight.by.sd = TRUE, : dimentionality reduction is not complete, run 'runDimReduct' first\n",
     "output_type": "error",
     "traceback": [
      "Error in runKNN.default(obj = x.sp, pca.dims = 2:30, weight.by.sd = TRUE, : dimentionality reduction is not complete, run 'runDimReduct' first\nTraceback:\n",
      "1. runKNN(obj = x.sp, pca.dims = 2:30, weight.by.sd = TRUE, k = 15)",
      "2. runKNN.default(obj = x.sp, pca.dims = 2:30, weight.by.sd = TRUE, \n .     k = 15)",
      "3. stop(\"dimentionality reduction is not complete, run 'runDimReduct' first\")"
     ]
    }
   ],
   "source": [
    "x.sp = runKNN(\n",
    "    obj=x.sp,\n",
    "    pca.dims=2:30,\n",
    "    weight.by.sd=TRUE,\n",
    "    k=15\n",
    "    );"
   ]
  },
  {
   "cell_type": "code",
   "execution_count": 9,
   "metadata": {},
   "outputs": [
    {
     "data": {
      "text/plain": [
       "number of barcodes: 1345\n",
       "number of bins: 11383842\n",
       "number of genes: 0\n",
       "number of peaks: 0"
      ]
     },
     "metadata": {},
     "output_type": "display_data"
    }
   ],
   "source": [
    "x.sp"
   ]
  },
  {
   "cell_type": "code",
   "execution_count": 13,
   "metadata": {},
   "outputs": [
    {
     "data": {
      "text/plain": [
       "Number of cells: 0 \n",
       " Number of dims:  0 \n",
       " Normalization:  FALSE \n",
       " Normalization method:   "
      ]
     },
     "metadata": {},
     "output_type": "display_data"
    }
   ],
   "source": [
    "x.sp@"
   ]
  },
  {
   "cell_type": "code",
   "execution_count": null,
   "metadata": {},
   "outputs": [],
   "source": []
  }
 ],
 "metadata": {
  "kernelspec": {
   "display_name": "R",
   "language": "R",
   "name": "ir"
  },
  "language_info": {
   "codemirror_mode": "r",
   "file_extension": ".r",
   "mimetype": "text/x-r-source",
   "name": "R",
   "pygments_lexer": "r",
   "version": "3.6.1"
  }
 },
 "nbformat": 4,
 "nbformat_minor": 4
}
