{
 "cells": [
  {
   "cell_type": "code",
   "execution_count": 5,
   "metadata": {},
   "outputs": [],
   "source": [
    "import matplotlib.pyplot as plt\n",
    "from scipy.ndimage.filters import gaussian_filter1d"
   ]
  },
  {
   "cell_type": "code",
   "execution_count": 2,
   "metadata": {},
   "outputs": [],
   "source": [
    "#  get gene location\n",
    "def load_gene_loc():\n",
    "    f = open('gene.bed', 'r')\n",
    "    gene = {}\n",
    "    for i in f:\n",
    "        i = i.split()\n",
    "        #  gene direction\n",
    "        if i[5] == '+':\n",
    "            gene[i[3]] = (int(i[1]), int(i[2]), 1)\n",
    "        elif i[5] == '-':\n",
    "            gene[i[3]] = (int(i[1]), int(i[2]), -1)\n",
    "    return gene"
   ]
  },
  {
   "cell_type": "code",
   "execution_count": 3,
   "metadata": {},
   "outputs": [],
   "source": [
    "def cal_distribution(filename):\n",
    "    f = open(filename, 'r')\n",
    "    \n",
    "    #  up and down stream 100 kb\n",
    "    ranges = 100000\n",
    "    \n",
    "    data = []\n",
    "    for i in f:\n",
    "        i = i.split()\n",
    "        snp_loc = int(i[1])\n",
    "        name = i[3]\n",
    "        #  -1 < up < 0\n",
    "        #  0 < gene body < 1\n",
    "        #  1 < down < 2\n",
    "        if (snp_loc >= gene[name][0]) and (snp_loc <= gene[name][1]):\n",
    "            pos = (snp_loc-gene[name][0]+1) / (gene[name][1]-gene[name][0]+1)\n",
    "        elif snp_loc < gene[name][0]:\n",
    "            pos = (snp_loc-gene[name][0]+ranges+1) / ranges - 1 * gene[name][2]\n",
    "        elif snp_loc > gene[name][1]:\n",
    "            pos = (snp_loc-gene[name][1]) / ranges + 1 * gene[name][2]\n",
    "        data.append(pos)\n",
    "    f.close()\n",
    "\n",
    "    data.sort()\n",
    "    xx = -1.0\n",
    "    counts = {xx: 0}\n",
    "    bins = 100\n",
    "    #  gene average length is 3641.48 bp from gene.bed file\n",
    "    gene_len = 3641.48\n",
    "    for i in data:\n",
    "        if i < xx+1/bins:\n",
    "            counts[round(xx,2)] += 1\n",
    "        else:\n",
    "            xx += 1/bins\n",
    "            counts[round(xx,2)] = 1\n",
    "\n",
    "    x, y = [], []\n",
    "    for k, v in counts.items():\n",
    "        x.append(k)\n",
    "        if k < 0:\n",
    "            #  normalize like RPKM\n",
    "            y.append(v/(ranges/bins*len(data)))  #  up_stream\n",
    "        elif (k >= 0) and (k < 1):\n",
    "            y.append(v/(gene_len/bins*len(data)))  #  gene_body\n",
    "        else:\n",
    "            y.append(v/(ranges/bins*len(data)))  #  down_stream\n",
    "\n",
    "    return x, y"
   ]
  },
  {
   "cell_type": "code",
   "execution_count": 6,
   "metadata": {},
   "outputs": [
    {
     "data": {
      "image/png": "[encoded data removed]",
      "text/plain": [
       "<Figure size 432x288 with 1 Axes>"
      ]
     },
     "metadata": {
      "needs_background": "light"
     },
     "output_type": "display_data"
    }
   ],
   "source": [
    "if __name__ == \"__main__\":\n",
    "    gene = load_gene_loc()\n",
    "    maxy = 0\n",
    "\n",
    "    x, y = cal_distribution('All-Cis-eQTL.loc')\n",
    "    y_smooth = gaussian_filter1d(y, sigma=1)\n",
    "    plt.plot(x, y_smooth, label='cis-eQTL', color='#6BAED6')\n",
    "    maxy = max(maxy, max(y))\n",
    "\n",
    "    plt.plot([0,0], [0,maxy],linestyle=\"--\", color='gray', alpha=.8)\n",
    "    plt.plot([1,1], [0,maxy],linestyle=\"--\", color='gray', alpha=.8)\n",
    "    plt.xticks([-1,0,1,2], ['-100 kb', 'TSS', 'TES', '100 kb'])\n",
    "    plt.xlim(-1.01, 2.01)\n",
    "    plt.legend()\n",
    "    plt.ylabel('Normalized density')\n",
    "    # plt.savefig('result.pdf', format='pdf')"
   ]
  },
  {
   "cell_type": "code",
   "execution_count": null,
   "metadata": {},
   "outputs": [],
   "source": []
  }
 ],
 "metadata": {
  "kernelspec": {
   "display_name": "Python 3",
   "language": "python",
   "name": "python3"
  },
  "language_info": {
   "codemirror_mode": {
    "name": "ipython",
    "version": 3
   },
   "file_extension": ".py",
   "mimetype": "text/x-python",
   "name": "python",
   "nbconvert_exporter": "python",
   "pygments_lexer": "ipython3",
   "version": "3.7.0"
  }
 },
 "nbformat": 4,
 "nbformat_minor": 2
}
